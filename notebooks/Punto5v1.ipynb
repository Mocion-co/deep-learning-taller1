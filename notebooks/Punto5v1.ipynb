version https://git-lfs.github.com/spec/v1
oid sha256:a99e8c4e13102ddb9d9677171b8810c2b20a6b0f5e4fda3885ae04cf98d72032
size 17476
